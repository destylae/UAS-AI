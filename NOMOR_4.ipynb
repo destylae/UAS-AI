{
  "cells": [
    {
      "cell_type": "code",
      "execution_count": null,
      "metadata": {
        "id": "tzjMW8Ve2i1L"
      },
      "outputs": [],
      "source": [
        "import pandas as pd\n",
        "from sklearn.model_selection import train_test_split\n",
        "from sklearn.linear_model import LogisticRegression\n",
        "from sklearn.preprocessing import StandardScaler\n",
        "from sklearn.metrics import accuracy_score"
      ]
    },
    {
      "cell_type": "code",
      "execution_count": null,
      "metadata": {
        "id": "1pEUJc9d2ozx"
      },
      "outputs": [],
      "source": [
        "data = pd.read_csv('train.csv')"
      ]
    },
    {
      "cell_type": "code",
      "execution_count": null,
      "metadata": {
        "id": "qGU16n-L2tHC"
      },
      "outputs": [],
      "source": [
        "feature_names = ['Pclass', 'Age', 'SibSp', 'Parch', 'Fare']\n",
        "X = data[feature_names]"
      ]
    },
    {
      "cell_type": "code",
      "execution_count": null,
      "metadata": {
        "id": "z2boXaMU2ylF"
      },
      "outputs": [],
      "source": [
        "y = data['Survived']"
      ]
    },
    {
      "cell_type": "code",
      "execution_count": null,
      "metadata": {
        "id": "Z4OdEmeu22dV"
      },
      "outputs": [],
      "source": [
        "# Mengatasi nilai-nilai yang hilang pada kolom 'Age'\n",
        "X['Age'].fillna(X['Age'].mean(), inplace=True)"
      ]
    },
    {
      "cell_type": "code",
      "execution_count": null,
      "metadata": {
        "id": "0c2-34fi265A"
      },
      "outputs": [],
      "source": [
        "# Mengatasi nilai-nilai yang hilang pada kolom 'Fare'\n",
        "X['Fare'].fillna(X['Fare'].mean(), inplace=True)"
      ]
    },
    {
      "cell_type": "code",
      "execution_count": null,
      "metadata": {
        "id": "4JM5qRP_2-We"
      },
      "outputs": [],
      "source": [
        "# Mengonversi nilai kategori pada 'Pclass' menjadi one-hot encoding\n",
        "X = pd.get_dummies(X, columns=['Pclass'], drop_first=True)"
      ]
    },
    {
      "cell_type": "code",
      "execution_count": null,
      "metadata": {
        "id": "qtLYl3LP3IKh"
      },
      "outputs": [],
      "source": [
        "X_train, X_test, y_train, y_test = train_test_split(X, y, test_size=0.2, random_state=42)\n",
        "\n",
        "scaler = StandardScaler()\n",
        "X_train_scaled = scaler.fit_transform(X_train)\n",
        "X_test_scaled = scaler.transform(X_test)\n",
        "\n",
        "model = LogisticRegression()\n",
        "model.fit(X_train_scaled, y_train)\n",
        "\n",
        "# Prediksi kelangsungan hidup pada data uji menggunakan model yang telah dilatih\n",
        "y_pred = model.predict(X_test_scaled)\n",
        "\n",
        "# Hitung akurasi untuk mengevaluasi performa model\n",
        "accuracy = accuracy_score(y_test, y_pred)\n",
        "print('Accuracy:', accuracy)"
      ]
    },
    {
      "cell_type": "code",
      "execution_count": null,
      "metadata": {
        "id": "x47LQ6cWjBs1"
      },
      "outputs": [],
      "source": [
        "from sklearn.linear_model import LinearRegression\n",
        "\n",
        "model = LinearRegression()\n",
        "\n",
        "# Latih model menggunakan data latih\n",
        "print(X_train.shape)\n",
        "print(y_train.shape)"
      ]
    },
    {
      "cell_type": "code",
      "execution_count": null,
      "metadata": {
        "id": "Bof87SUijiuj"
      },
      "outputs": [],
      "source": [
        "import matplotlib.pyplot as plt\n",
        "plt.scatter(y_test, y_pred)\n",
        "plt.xlabel('Harga Sebenarnya')\n",
        "plt.ylabel('Harga Prediksi')\n",
        "plt.title('Harga Sebenarnya vs Harga Prediksi')\n",
        "plt.show()"
      ]
    },
    {
      "cell_type": "code",
      "execution_count": null,
      "metadata": {
        "id": "UtMxsDkwjwYP"
      },
      "outputs": [],
      "source": [
        "from sklearn.metrics import mean_squared_error\n",
        "\n",
        "# Hitung rata-rata galat kuadrat untuk mengevaluasi performa model\n",
        "mse = mean_squared_error(y_test, y_pred)\n",
        "print('Mean Squared Error:', mse)"
      ]
    }
  ],
  "metadata": {
    "colab": {
      "private_outputs": true,
      "provenance": []
    },
    "kernelspec": {
      "display_name": "Python 3",
      "name": "python3"
    },
    "language_info": {
      "name": "python"
    }
  },
  "nbformat": 4,
  "nbformat_minor": 0
}
